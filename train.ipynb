{
 "cells": [
  {
   "cell_type": "code",
   "id": "initial_id",
   "metadata": {
    "collapsed": true,
    "ExecuteTime": {
     "end_time": "2025-09-20T21:20:34.467293Z",
     "start_time": "2025-09-20T21:20:34.463974Z"
    }
   },
   "source": [
    "import matplotlib.pyplot as plt\n",
    "%matplotlib inline\n",
    "import time\n",
    "import numpy as np\n",
    "import pickle"
   ],
   "outputs": [],
   "execution_count": 26
  },
  {
   "metadata": {
    "ExecuteTime": {
     "end_time": "2025-09-20T20:53:24.792446Z",
     "start_time": "2025-09-20T20:53:24.786395Z"
    }
   },
   "cell_type": "code",
   "source": [
    "def convert(imgs, labels, outfile, n):\n",
    "    imgf = open(imgs, \"rb\")\n",
    "    labelf = open(labels, \"rb\")\n",
    "    csvf = open(outfile, \"w\")\n",
    "\n",
    "    imgf.read(16)\n",
    "    labelf.read(8)\n",
    "    images = []\n",
    "\n",
    "    for i in range(n):\n",
    "        image = [ord(labelf.read(1))]\n",
    "        for j in range(28*28):\n",
    "            image.append(ord(imgf.read(1)))\n",
    "        images.append(image)\n",
    "\n",
    "    for image in images:\n",
    "        csvf.write(\",\".join(str(pix) for pix in image)+\"\\n\")\n",
    "    imgf.close()\n",
    "    labelf.close()\n",
    "    csvf.close()"
   ],
   "id": "a01d11e4c3f0d709",
   "outputs": [],
   "execution_count": 2
  },
  {
   "metadata": {
    "ExecuteTime": {
     "end_time": "2025-09-20T20:55:28.742843Z",
     "start_time": "2025-09-20T20:55:28.736851Z"
    }
   },
   "cell_type": "code",
   "source": [
    "mnist_train_x = \"/home/raj/PycharmProjects/n-rex/mnist/archive/train-images.idx3-ubyte\"\n",
    "mnist_train_y = \"/home/raj/PycharmProjects/n-rex/mnist/archive/train-labels.idx1-ubyte\"\n",
    "mnist_test_x  = \"/home/raj/PycharmProjects/n-rex/mnist/archive/t10k-images.idx3-ubyte\"\n",
    "mnist_test_y  = \"/home/raj/PycharmProjects/n-rex/mnist/archive/t10k-labels.idx1-ubyte\"\n"
   ],
   "id": "eb476bcba701cffd",
   "outputs": [],
   "execution_count": 3
  },
  {
   "metadata": {
    "ExecuteTime": {
     "end_time": "2025-09-20T20:56:07.305883Z",
     "start_time": "2025-09-20T20:56:00.311960Z"
    }
   },
   "cell_type": "code",
   "source": [
    "convert(mnist_train_x, mnist_train_y, \"/home/raj/PycharmProjects/n-rex/mnist/train.csv\", 60000)\n",
    "convert(mnist_test_x, mnist_test_y, \"/home/raj/PycharmProjects/n-rex/mnist/test.csv\", 10000)\n"
   ],
   "id": "db4cc0bfc0b0d32b",
   "outputs": [],
   "execution_count": 4
  },
  {
   "metadata": {
    "ExecuteTime": {
     "end_time": "2025-09-20T20:59:42.841762Z",
     "start_time": "2025-09-20T20:59:42.722837Z"
    }
   },
   "cell_type": "code",
   "source": [
    "train_file = open(\"/home/raj/PycharmProjects/n-rex/mnist/train.csv\", \"r\")\n",
    "train_list = train_file.readlines()\n",
    "train_file.close()\n",
    "print(len(train_list))\n"
   ],
   "id": "f481f33225872dd0",
   "outputs": [
    {
     "name": "stdout",
     "output_type": "stream",
     "text": [
      "60000\n"
     ]
    }
   ],
   "execution_count": 13
  },
  {
   "metadata": {
    "ExecuteTime": {
     "end_time": "2025-09-20T20:59:50.853801Z",
     "start_time": "2025-09-20T20:59:50.848406Z"
    }
   },
   "cell_type": "code",
   "source": "train_list[1000]",
   "id": "fcd206c513ce310d",
   "outputs": [
    {
     "data": {
      "text/plain": [
       "'0,0,0,0,0,0,0,0,0,0,0,0,0,0,0,0,0,0,0,0,0,0,0,0,0,0,0,0,0,0,0,0,0,0,0,0,0,0,0,0,0,0,0,0,0,0,0,0,0,0,0,0,0,0,0,0,0,0,0,0,0,0,0,0,0,0,0,0,0,0,0,0,0,0,0,0,0,0,0,0,0,0,0,0,0,0,0,0,0,0,0,0,0,0,0,0,0,0,0,0,0,0,0,0,0,0,0,0,0,0,0,0,0,0,0,0,0,0,0,0,0,0,0,0,0,0,0,0,0,0,0,0,0,0,0,0,0,0,0,0,0,0,0,0,0,0,0,0,0,0,0,0,0,0,0,36,146,254,255,251,95,6,0,0,0,0,0,0,0,0,0,0,0,0,0,0,0,0,0,0,0,3,97,234,254,254,232,254,254,35,0,0,0,0,0,0,0,0,0,0,0,0,0,0,0,0,0,0,89,140,254,254,174,67,33,200,254,190,0,0,0,0,0,0,0,0,0,0,0,0,0,0,0,0,0,108,253,254,235,51,1,0,0,12,254,253,56,0,0,0,0,0,0,0,0,0,0,0,0,0,0,0,12,216,254,244,55,0,0,0,0,6,213,254,57,0,0,0,0,0,0,0,0,0,0,0,0,0,0,0,25,254,254,132,0,0,0,0,0,0,168,254,57,0,0,0,0,0,0,0,0,0,0,0,0,0,0,0,45,254,243,34,0,0,0,0,0,0,168,254,57,0,0,0,0,0,0,0,0,0,0,0,0,0,0,0,128,254,157,0,0,0,0,0,0,0,168,254,57,0,0,0,0,0,0,0,0,0,0,0,0,0,0,19,228,254,105,0,0,0,0,0,0,7,228,254,57,0,0,0,0,0,0,0,0,0,0,0,0,0,0,58,254,254,87,0,0,0,0,0,0,10,254,246,47,0,0,0,0,0,0,0,0,0,0,0,0,0,0,58,254,254,9,0,0,0,0,0,0,10,254,210,0,0,0,0,0,0,0,0,0,0,0,0,0,0,0,58,254,254,9,0,0,0,0,0,0,105,254,91,0,0,0,0,0,0,0,0,0,0,0,0,0,0,0,5,219,254,9,0,0,0,0,0,24,230,254,24,0,0,0,0,0,0,0,0,0,0,0,0,0,0,0,0,216,254,9,0,0,0,0,0,84,254,251,23,0,0,0,0,0,0,0,0,0,0,0,0,0,0,0,0,216,254,36,0,0,0,0,22,208,251,94,0,0,0,0,0,0,0,0,0,0,0,0,0,0,0,0,0,129,254,120,0,0,0,3,140,254,229,0,0,0,0,0,0,0,0,0,0,0,0,0,0,0,0,0,0,83,254,222,17,0,0,91,254,236,53,0,0,0,0,0,0,0,0,0,0,0,0,0,0,0,0,0,0,18,235,254,134,21,119,237,254,124,0,0,0,0,0,0,0,0,0,0,0,0,0,0,0,0,0,0,0,0,53,249,254,234,252,254,172,3,0,0,0,0,0,0,0,0,0,0,0,0,0,0,0,0,0,0,0,0,0,116,237,254,254,133,20,0,0,0,0,0,0,0,0,0,0,0,0,0,0,0,0,0,0,0,0,0,0,0,0,0,0,0,0,0,0,0,0,0,0,0,0,0,0,0,0,0,0,0,0,0,0,0,0,0,0,0,0,0,0,0,0,0,0,0,0,0,0,0,0,0,0,0,0,0,0,0,0,0,0,0,0,0,0,0,0,0,0,0,0,0,0,0,0,0,0,0,0,0,0,0\\n'"
      ]
     },
     "execution_count": 14,
     "metadata": {},
     "output_type": "execute_result"
    }
   ],
   "execution_count": 14
  },
  {
   "metadata": {
    "ExecuteTime": {
     "end_time": "2025-09-20T20:59:59.121888Z",
     "start_time": "2025-09-20T20:59:58.962434Z"
    }
   },
   "cell_type": "code",
   "source": [
    "all_values = train_list[1000].split(',')\n",
    "image_array = np.asarray(all_values[1:], dtype = float).reshape((28,28))\n",
    "plt.imshow(image_array, cmap='Greys', interpolation='None')"
   ],
   "id": "2087d38ef20d96",
   "outputs": [
    {
     "data": {
      "text/plain": [
       "<matplotlib.image.AxesImage at 0x7fbcb17fc190>"
      ]
     },
     "execution_count": 15,
     "metadata": {},
     "output_type": "execute_result"
    },
    {
     "data": {
      "text/plain": [
       "<Figure size 640x480 with 1 Axes>"
      ],
      "image/png": "[encoded data removed]"
     },
     "metadata": {},
     "output_type": "display_data"
    }
   ],
   "execution_count": 15
  },
  {
   "metadata": {
    "ExecuteTime": {
     "end_time": "2025-09-20T21:00:28.918668Z",
     "start_time": "2025-09-20T21:00:28.901204Z"
    }
   },
   "cell_type": "code",
   "source": [
    "test_file = open(\"/home/raj/PycharmProjects/n-rex/mnist/test.csv\", \"r\")\n",
    "test_list = test_file.readlines()\n",
    "test_file.close()\n",
    "print(len(test_list))\n"
   ],
   "id": "493be04f602878ec",
   "outputs": [
    {
     "name": "stdout",
     "output_type": "stream",
     "text": [
      "10000\n"
     ]
    }
   ],
   "execution_count": 16
  },
  {
   "metadata": {
    "ExecuteTime": {
     "end_time": "2025-09-20T21:00:54.239819Z",
     "start_time": "2025-09-20T21:00:54.200449Z"
    }
   },
   "cell_type": "code",
   "source": [
    "class DNN:\n",
    "    def __init__(self, sizes=[784, 128, 64, 10], epochs=10, lr=0.001):\n",
    "        self.sizes = sizes\n",
    "        self.epochs = epochs\n",
    "        self.lr = lr\n",
    "\n",
    "        input_layer, hidden_1, hidden_2, output_layer = sizes\n",
    "\n",
    "\n",
    "        self.params = {\n",
    "            'w1': np.random.randn(hidden_1, input_layer) * np.sqrt(1. / hidden_1),\n",
    "            'w2': np.random.randn(hidden_2, hidden_1) * np.sqrt(1. / hidden_2),\n",
    "            'w3': np.random.randn(output_layer, hidden_2) * np.sqrt(1. / output_layer),\n",
    "            'b1': np.zeros((hidden_1, 1)),\n",
    "            'b2': np.zeros((hidden_2, 1)),\n",
    "            'b3': np.zeros((output_layer, 1))\n",
    "        }\n",
    "\n",
    "    def sigmoid(self, x, derivative=False):\n",
    "        s = 1 / (1 + np.exp(-x))\n",
    "        return s * (1 - s) if derivative else s\n",
    "\n",
    "    def softmax(self, x):\n",
    "        exps = np.exp(x - np.max(x))\n",
    "        return exps / np.sum(exps, axis=0)\n",
    "\n",
    "    def forward_pass(self, x_train):\n",
    "        p = self.params\n",
    "        p['A0'] = x_train\n",
    "\n",
    "        p['Z1'] = np.dot(p['w1'], p['A0']) + p['b1']\n",
    "        p['A1'] = self.sigmoid(p['Z1'])\n",
    "\n",
    "        p['Z2'] = np.dot(p['w2'], p['A1']) + p['b2']\n",
    "        p['A2'] = self.sigmoid(p['Z2'])\n",
    "\n",
    "        p['Z3'] = np.dot(p['w3'], p['A2']) + p['b3']\n",
    "        p['A3'] = self.softmax(p['Z3'])\n",
    "\n",
    "        return p['A3']\n",
    "\n",
    "    def backward_pass(self, y_train, output):\n",
    "        p = self.params\n",
    "        change_w = {}\n",
    "        change_b = {}\n",
    "\n",
    "        # Output layer\n",
    "        error = output - y_train.reshape(-1, 1)\n",
    "        change_w['w3'] = np.outer(error, p['A2'])\n",
    "        change_b['b3'] = error\n",
    "\n",
    "        # Hidden layer 2\n",
    "        error = np.dot(p['w3'].T, error) * self.sigmoid(p['Z2'], derivative=True)\n",
    "        change_w['w2'] = np.outer(error, p['A1'])\n",
    "        change_b['b2'] = error\n",
    "\n",
    "        # Hidden layer 1\n",
    "        error = np.dot(p['w2'].T, error) * self.sigmoid(p['Z1'], derivative=True)\n",
    "        change_w['w1'] = np.outer(error, p['A0'])\n",
    "        change_b['b1'] = error\n",
    "\n",
    "        return change_w, change_b\n",
    "\n",
    "    def update_weights(self, change_wb):\n",
    "        change_w, change_b = change_wb\n",
    "        for key, value in change_w.items():\n",
    "            self.params[key] -= self.lr * value\n",
    "        for key, value in change_b.items():\n",
    "            self.params[key] -= self.lr * value\n",
    "\n",
    "    def compute_accuracy(self, data_list, output_nodes):\n",
    "        correct = 0\n",
    "        for x in data_list:\n",
    "            vals = x.split(',')\n",
    "            inputs = (np.asarray(vals[1:], dtype=float) / 255.0 * 0.99) + 0.01\n",
    "            inputs = inputs.reshape(-1, 1)\n",
    "            targets = np.zeros(output_nodes) + 0.01\n",
    "            targets[int(vals[0])] = 0.99\n",
    "            output = self.forward_pass(inputs)\n",
    "            if np.argmax(output) == np.argmax(targets):\n",
    "                correct += 1\n",
    "        return correct / len(data_list)\n",
    "\n",
    "    def train(self, train_list, test_list, output_nodes):\n",
    "        start_time = time.time()\n",
    "        for epoch in range(self.epochs):\n",
    "            for x in train_list:\n",
    "                vals = x.split(',')\n",
    "                inputs = (np.asarray(vals[1:], dtype=float) / 255.0 * 0.99) + 0.01\n",
    "                inputs = inputs.reshape(-1, 1)\n",
    "                targets = np.zeros(output_nodes) + 0.01\n",
    "                targets[int(vals[0])] = 0.99\n",
    "\n",
    "                output = self.forward_pass(inputs)\n",
    "                changes = self.backward_pass(targets, output)\n",
    "                self.update_weights(changes)\n",
    "\n",
    "            acc = self.compute_accuracy(test_list, output_nodes)\n",
    "            print(f\"Epoch {epoch+1}, Time: {time.time() - start_time:.2f}s, Accuracy: {acc*100:.2f}%\")\n"
   ],
   "id": "a1aad2701be7525b",
   "outputs": [],
   "execution_count": 17
  },
  {
   "metadata": {
    "ExecuteTime": {
     "end_time": "2025-09-20T22:52:11.444471Z",
     "start_time": "2025-09-20T22:41:05.479737Z"
    }
   },
   "cell_type": "code",
   "source": [
    "dnn = DNN(sizes=[784,128,64,10], epochs=30, lr=0.001)\n",
    "dnn.train(train_list, test_list, 10)\n",
    "with open(\"weights/dnn_tiny.pkl\", \"wb\") as f:\n",
    "    pickle.dump(dnn, f)"
   ],
   "id": "fcc838e0f0554d9",
   "outputs": [
    {
     "name": "stdout",
     "output_type": "stream",
     "text": [
      "Epoch 1, Time: 21.13s, Accuracy: 84.44%\n",
      "Epoch 2, Time: 42.42s, Accuracy: 88.21%\n",
      "Epoch 3, Time: 64.61s, Accuracy: 89.19%\n",
      "Epoch 4, Time: 87.27s, Accuracy: 89.78%\n",
      "Epoch 5, Time: 108.06s, Accuracy: 90.45%\n",
      "Epoch 6, Time: 129.25s, Accuracy: 91.00%\n",
      "Epoch 7, Time: 154.93s, Accuracy: 91.38%\n",
      "Epoch 8, Time: 181.26s, Accuracy: 91.67%\n",
      "Epoch 9, Time: 207.35s, Accuracy: 91.85%\n",
      "Epoch 10, Time: 233.42s, Accuracy: 92.14%\n",
      "Epoch 11, Time: 259.73s, Accuracy: 92.42%\n",
      "Epoch 12, Time: 281.53s, Accuracy: 92.68%\n",
      "Epoch 13, Time: 303.39s, Accuracy: 92.87%\n",
      "Epoch 14, Time: 325.26s, Accuracy: 93.25%\n",
      "Epoch 15, Time: 346.72s, Accuracy: 93.42%\n",
      "Epoch 16, Time: 367.44s, Accuracy: 93.57%\n",
      "Epoch 17, Time: 388.04s, Accuracy: 93.75%\n",
      "Epoch 18, Time: 408.71s, Accuracy: 94.00%\n",
      "Epoch 19, Time: 429.95s, Accuracy: 94.25%\n",
      "Epoch 20, Time: 451.15s, Accuracy: 94.38%\n",
      "Epoch 21, Time: 471.75s, Accuracy: 94.47%\n",
      "Epoch 22, Time: 492.54s, Accuracy: 94.68%\n",
      "Epoch 23, Time: 513.51s, Accuracy: 94.75%\n",
      "Epoch 24, Time: 534.93s, Accuracy: 94.84%\n",
      "Epoch 25, Time: 556.81s, Accuracy: 94.90%\n",
      "Epoch 26, Time: 578.37s, Accuracy: 94.91%\n",
      "Epoch 27, Time: 599.64s, Accuracy: 94.95%\n",
      "Epoch 28, Time: 623.02s, Accuracy: 95.01%\n",
      "Epoch 29, Time: 644.07s, Accuracy: 95.16%\n",
      "Epoch 30, Time: 665.96s, Accuracy: 95.23%\n"
     ]
    }
   ],
   "execution_count": 31
  },
  {
   "metadata": {
    "ExecuteTime": {
     "end_time": "2025-09-20T22:52:23.198186Z",
     "start_time": "2025-09-20T22:52:23.193804Z"
    }
   },
   "cell_type": "code",
   "source": [
    "model = pickle.load(open(\"weights/dnn_tiny.pkl\", \"rb\"))\n",
    "inputs = (image_array.flatten()/255*0.99+0.01).reshape(-1,1)\n",
    "print(\"Predicted:\", np.argmax(model.forward_pass(inputs)), \"Actual:\", all_values[0])"
   ],
   "id": "104c9ad45e3e8048",
   "outputs": [
    {
     "name": "stdout",
     "output_type": "stream",
     "text": [
      "Predicted: 0 Actual: 0\n"
     ]
    }
   ],
   "execution_count": 32
  },
  {
   "metadata": {},
   "cell_type": "code",
   "outputs": [],
   "execution_count": null,
   "source": "",
   "id": "a847928d341efcac"
  }
 ],
 "metadata": {
  "kernelspec": {
   "display_name": "Python 3",
   "language": "python",
   "name": "python3"
  },
  "language_info": {
   "codemirror_mode": {
    "name": "ipython",
    "version": 2
   },
   "file_extension": ".py",
   "mimetype": "text/x-python",
   "name": "python",
   "nbconvert_exporter": "python",
   "pygments_lexer": "ipython2",
   "version": "2.7.6"
  }
 },
 "nbformat": 4,
 "nbformat_minor": 5
}
